{
 "cells": [
  {
   "cell_type": "markdown",
   "id": "4cc9561e",
   "metadata": {},
   "source": [
    "the mvp will be send all tables from notebook to sql, then tie those tables together , send it to python and clean it then sned it back to sql and run queries and subqueries\n",
    "\n",
    "AFTER MVP IS THE EXTRA OF THE BIG QUESTION AND HOW WE JOIN THINGS TOGETHER\n",
    "\n",
    "PRESENTATION\n",
    "BIQ QUESTION\n",
    "WHY WE DECIDDED TO USE THIS TABLE\n",
    "WHAT QUERIES WE CHOSE TO ANSWER OUR QUESTION\n",
    "\n",
    "\n",
    "BEFORE,READ THIS BEFORE YOU START(SQLALCHEMY) PUT ALLL TABLES TOGETHER\n",
    "\n",
    "IDEIAS: TOTAL COST/TIME CONSUMPTION(URGENCY) / EXPERIENCY AND DISPONABILITY\n",
    "\n",
    "WE WANT TO CREATE NEW COLUMNS WITH SUMDS FROM TWO COLUMNS\n",
    "WE WANT TO REMOVE THE COLUMNS WE DONT NEED\n",
    "\n",
    "ENVIROMENTS\n",
    "\n",
    "HOW TO ORGNIZE IN A GROUP:\n",
    "FIRST TASK IS TO READ THE ALCHEMY THING AND PASS TABLE TO A SQL FILE\n",
    "THEN SECONDLY IS JOIN THEM WITH ERD , SEE HOW TO LINK THEM AND THAT\n",
    "THRIDLY PASS IT TO PYTHON AND START WRITING CODE TO CLEAN IT\n",
    "\n",
    "\n",
    "\n",
    "\n",
    "PRO AND CONS\n",
    "\n",
    "BIG QUESTION: USER, WHAT IS THE IMPORTANCE OF EACH OF THESE OPTIONS FOR YOU WHEN CHOOSING WHERE TO STUDY...\n",
    "ASSIGN 4 TO 1, 3 TO ANOTHER ,2 TO ANOTHER , 1 TO ANOTHER , 4 BEING THE HIGHEST AND 1 THE LOWEST\n",
    "OPTIONS....\n",
    "SPENDING THE LEAST AMOUNT OF MONEY\n",
    "LOCATION AND ADVENTURE\n",
    "TIME IT TAKES\n",
    "QUALITY OF COURSE AND SUCCESS RATE FOR THE JOB\n",
    "FLEXIBILITY OF TIME(PEOPLE WORKING IR ALREADY STUDYING)\n",
    "\n",
    "WE ALLOW THE USER TO CHOOSE THE IMPORTANCE AND DEPENDING ON THE A PRE DEFINED RESULT FOR THOSE OPTIONS USER IS PROMT TO CONSIDER A CERTAIN COLUMN OF THE LIST SORTED BY BEST OPTION TO WORST.\n",
    "\n",
    "IF WE CANT DO ALL THAT AND IS TOO MUCH, FORGET THE USER OPTION, BUT CREATE A TABLE WITH COLUMNS LIKE TOTAL PRICE(SO PRICE OF COURSE + HOTEL(IF NEEDED) + AVE PRICE OF COUNTRY + PAYMENT OPTIONS\n",
    "\n",
    "\n",
    "\n",
    "\n",
    "\n",
    "\n",
    "PLAN\n",
    "TUESDAY\n",
    "BIG QUESTION NEEDED?\n",
    "DATA LAKE - DROP(USER,COMMENTS)\n",
    "BACK TO PYTHON\n",
    "ERD\n",
    "\n",
    "\n",
    "WEDNSDAY\n",
    "CHANGING THE TABLES TO THE FORMT WE WANT TO ANSWER BIG QUESTION\n",
    "SEND AGAIN TO MY SQL\n",
    "ALL CONECTION (PRIMARY KEY - F KEY)\n",
    "START QUERIES\n",
    "\n",
    "THURS\n",
    "FINISH QUERIES\n",
    "PRESENTATION\n",
    "\n",
    "FRIDAY\n",
    "MOCK PRES"
   ]
  },
  {
   "cell_type": "code",
   "execution_count": 2,
   "id": "1bf20129",
   "metadata": {},
   "outputs": [
    {
     "ename": "ModuleNotFoundError",
     "evalue": "No module named 'create_engine'",
     "output_type": "error",
     "traceback": [
      "\u001b[1;31m---------------------------------------------------------------------------\u001b[0m",
      "\u001b[1;31mModuleNotFoundError\u001b[0m                       Traceback (most recent call last)",
      "Input \u001b[1;32mIn [2]\u001b[0m, in \u001b[0;36m<cell line: 1>\u001b[1;34m()\u001b[0m\n\u001b[1;32m----> 1\u001b[0m \u001b[38;5;28;01mimport\u001b[39;00m \u001b[38;5;21;01mcreate_engine\u001b[39;00m\n",
      "\u001b[1;31mModuleNotFoundError\u001b[0m: No module named 'create_engine'"
     ]
    }
   ],
   "source": [
    "import create_engine"
   ]
  },
  {
   "cell_type": "code",
   "execution_count": null,
   "id": "beaf63db",
   "metadata": {},
   "outputs": [],
   "source": []
  }
 ],
 "metadata": {
  "kernelspec": {
   "display_name": "Python 3 (ipykernel)",
   "language": "python",
   "name": "python3"
  },
  "language_info": {
   "codemirror_mode": {
    "name": "ipython",
    "version": 3
   },
   "file_extension": ".py",
   "mimetype": "text/x-python",
   "name": "python",
   "nbconvert_exporter": "python",
   "pygments_lexer": "ipython3",
   "version": "3.9.12"
  }
 },
 "nbformat": 4,
 "nbformat_minor": 5
}
